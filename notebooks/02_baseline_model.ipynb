{
 "cells": [
  {
   "cell_type": "code",
   "execution_count": 1,
   "id": "9ddb634b",
   "metadata": {},
   "outputs": [
    {
     "name": "stdout",
     "output_type": "stream",
     "text": [
      "=== DATASET OVERVIEW ===\n",
      "Dataset shape: (5957, 2)\n",
      "\n",
      "Target distribution:\n",
      "target\n",
      "0    1181\n",
      "1    1202\n",
      "2    1185\n",
      "3    1201\n",
      "4    1188\n",
      "Name: count, dtype: int64\n",
      "\n",
      "Sample content:\n",
      "Regular check-in post, with information about our rules and wikis Welcome to /r/depression's check-in post - a place to take a moment and share what is going on and how you are doing. If you have an a...\n",
      "\n",
      "==================================================\n"
     ]
    }
   ],
   "source": [
    "# Mental Health Text Classification - Optimized Model\n",
    "# Import all necessary libraries\n",
    "import pandas as pd\n",
    "import numpy as np\n",
    "from sklearn.model_selection import train_test_split\n",
    "from sklearn.feature_extraction.text import TfidfVectorizer\n",
    "from sklearn.svm import LinearSVC\n",
    "from sklearn.metrics import accuracy_score, classification_report, confusion_matrix\n",
    "import matplotlib.pyplot as plt\n",
    "import seaborn as sns\n",
    "\n",
    "# Load cleaned dataset\n",
    "df = pd.read_csv(\"../data/cleaned_data.csv\")\n",
    "\n",
    "# Dataset overview\n",
    "print(\"=== DATASET OVERVIEW ===\")\n",
    "print(f\"Dataset shape: {df.shape}\")\n",
    "print(f\"\\nTarget distribution:\")\n",
    "print(df['target'].value_counts().sort_index())\n",
    "print(f\"\\nSample content:\")\n",
    "print(df['content'].iloc[0][:200] + \"...\")\n",
    "print(\"\\n\" + \"=\"*50)"
   ]
  },
  {
   "cell_type": "code",
   "execution_count": 2,
   "id": "28f83745",
   "metadata": {},
   "outputs": [
    {
     "name": "stdout",
     "output_type": "stream",
     "text": [
      "=== DATA PREPARATION ===\n",
      "Training samples: 4765\n",
      "Testing samples: 1192\n",
      "Train class distribution: [945 961 948 961 950]\n",
      "Test class distribution: [236 241 237 240 238]\n",
      "\n",
      "==================================================\n"
     ]
    }
   ],
   "source": [
    "# Data Preparation\n",
    "print(\"=== DATA PREPARATION ===\")\n",
    "\n",
    "# Split features and target\n",
    "X = df[\"content\"]\n",
    "y = df[\"target\"]\n",
    "\n",
    "# Train-test split with stratification to maintain class balance\n",
    "X_train, X_test, y_train, y_test = train_test_split(\n",
    "    X, y, test_size=0.2, random_state=42, stratify=y\n",
    ")\n",
    "\n",
    "print(f\"Training samples: {len(X_train)}\")\n",
    "print(f\"Testing samples: {len(X_test)}\")\n",
    "print(f\"Train class distribution: {pd.Series(y_train).value_counts().sort_index().values}\")\n",
    "print(f\"Test class distribution: {pd.Series(y_test).value_counts().sort_index().values}\")\n",
    "print(\"\\n\" + \"=\"*50)"
   ]
  },
  {
   "cell_type": "code",
   "execution_count": 3,
   "id": "8dbab06c",
   "metadata": {},
   "outputs": [
    {
     "name": "stdout",
     "output_type": "stream",
     "text": [
      "=== FEATURE ENGINEERING ===\n",
      "TF-IDF feature matrix shape: (4765, 5000)\n",
      "Vocabulary size: 5000\n",
      "Feature sparsity: 98.95%\n",
      "\n",
      "==================================================\n",
      "TF-IDF feature matrix shape: (4765, 5000)\n",
      "Vocabulary size: 5000\n",
      "Feature sparsity: 98.95%\n",
      "\n",
      "==================================================\n"
     ]
    }
   ],
   "source": [
    "# Feature Engineering - TF-IDF Vectorization\n",
    "print(\"=== FEATURE ENGINEERING ===\")\n",
    "\n",
    "# Create TF-IDF vectorizer\n",
    "tfidf = TfidfVectorizer(\n",
    "    max_features=5000,     # Top 5000 most important words\n",
    "    stop_words=\"english\",  # Remove common English words\n",
    "    ngram_range=(1, 2),    # Use unigrams and bigrams\n",
    "    min_df=2,              # Ignore words that appear in < 2 documents\n",
    "    max_df=0.95            # Ignore words that appear in > 95% of documents\n",
    ")\n",
    "\n",
    "# Transform text to numerical features\n",
    "X_train_tfidf = tfidf.fit_transform(X_train)\n",
    "X_test_tfidf = tfidf.transform(X_test)\n",
    "\n",
    "print(f\"TF-IDF feature matrix shape: {X_train_tfidf.shape}\")\n",
    "print(f\"Vocabulary size: {len(tfidf.vocabulary_)}\")\n",
    "print(f\"Feature sparsity: {(1.0 - X_train_tfidf.nnz / float(X_train_tfidf.shape[0] * X_train_tfidf.shape[1]))*100:.2f}%\")\n",
    "print(\"\\n\" + \"=\"*50)"
   ]
  },
  {
   "cell_type": "code",
   "execution_count": 4,
   "id": "1dfb25be",
   "metadata": {},
   "outputs": [
    {
     "name": "stdout",
     "output_type": "stream",
     "text": [
      "=== MODEL COMPARISON ===\n",
      "Logistic Regression: 0.8045\n",
      "Naive Bayes: 0.7534\n",
      "SVM (LinearSVC): 0.8146\n",
      "\n",
      "🏆 BEST MODEL: SVM (LinearSVC) (Accuracy: 0.8146)\n",
      "==================================================\n",
      "Logistic Regression: 0.8045\n",
      "Naive Bayes: 0.7534\n",
      "SVM (LinearSVC): 0.8146\n",
      "\n",
      "🏆 BEST MODEL: SVM (LinearSVC) (Accuracy: 0.8146)\n",
      "==================================================\n"
     ]
    }
   ],
   "source": [
    "# Model Selection - Quick Comparison\n",
    "print(\"=== MODEL COMPARISON ===\")\n",
    "\n",
    "from sklearn.linear_model import LogisticRegression\n",
    "from sklearn.naive_bayes import MultinomialNB\n",
    "\n",
    "# Test multiple models quickly\n",
    "models = {\n",
    "    \"Logistic Regression\": LogisticRegression(max_iter=500, random_state=42),\n",
    "    \"Naive Bayes\": MultinomialNB(),\n",
    "    \"SVM (LinearSVC)\": LinearSVC(random_state=42)\n",
    "}\n",
    "\n",
    "results = {}\n",
    "for name, model in models.items():\n",
    "    model.fit(X_train_tfidf, y_train)\n",
    "    preds = model.predict(X_test_tfidf)\n",
    "    accuracy = accuracy_score(y_test, preds)\n",
    "    results[name] = accuracy\n",
    "    print(f\"{name}: {accuracy:.4f}\")\n",
    "\n",
    "# Select best model\n",
    "best_model_name = max(results, key=results.get)\n",
    "best_accuracy = results[best_model_name]\n",
    "print(f\"\\n🏆 BEST MODEL: {best_model_name} (Accuracy: {best_accuracy:.4f})\")\n",
    "print(\"=\"*50)"
   ]
  },
  {
   "cell_type": "code",
   "execution_count": 5,
   "id": "c3de61a3",
   "metadata": {},
   "outputs": [
    {
     "name": "stdout",
     "output_type": "stream",
     "text": [
      "=== FINAL MODEL TRAINING ===\n",
      "Final Model Accuracy: 0.8146\n",
      "\n",
      "🎯 PRODUCTION MODEL: SVM (LinearSVC)\n",
      "📊 Final Accuracy: 0.8146 (81.46%)\n",
      "==================================================\n"
     ]
    }
   ],
   "source": [
    "# Final Model Training - SVM (Best Performer)\n",
    "print(\"=== FINAL MODEL TRAINING ===\")\n",
    "\n",
    "# Train the best model (SVM)\n",
    "final_model = LinearSVC(\n",
    "    random_state=42,\n",
    "    max_iter=2000,     # Ensure convergence\n",
    "    dual=False         # Better for n_samples > n_features\n",
    ")\n",
    "\n",
    "final_model.fit(X_train_tfidf, y_train)\n",
    "final_predictions = final_model.predict(X_test_tfidf)\n",
    "\n",
    "# Calculate final accuracy\n",
    "final_accuracy = accuracy_score(y_test, final_predictions)\n",
    "print(f\"Final Model Accuracy: {final_accuracy:.4f}\")\n",
    "\n",
    "# Class labels for better interpretation\n",
    "class_names = [\"Stress\", \"Depression\", \"Bipolar\", \"Personality\", \"Anxiety\"]\n",
    "\n",
    "print(f\"\\n🎯 PRODUCTION MODEL: SVM (LinearSVC)\")\n",
    "print(f\"📊 Final Accuracy: {final_accuracy:.4f} ({final_accuracy*100:.2f}%)\")\n",
    "print(\"=\"*50)"
   ]
  },
  {
   "cell_type": "code",
   "execution_count": 6,
   "id": "0b93a860",
   "metadata": {},
   "outputs": [
    {
     "name": "stdout",
     "output_type": "stream",
     "text": [
      "=== DETAILED PERFORMANCE ANALYSIS ===\n",
      "Classification Report:\n",
      "              precision    recall  f1-score   support\n",
      "\n",
      "      Stress       0.85      0.89      0.87       236\n",
      "  Depression       0.77      0.78      0.77       241\n",
      "     Bipolar       0.87      0.82      0.85       237\n",
      " Personality       0.79      0.78      0.78       240\n",
      "     Anxiety       0.80      0.81      0.81       238\n",
      "\n",
      "    accuracy                           0.81      1192\n",
      "   macro avg       0.82      0.81      0.81      1192\n",
      "weighted avg       0.82      0.81      0.81      1192\n",
      "\n",
      "\n",
      "Per-Class Accuracy:\n",
      "Stress: 0.8898\n",
      "Depression: 0.7801\n",
      "Bipolar: 0.8186\n",
      "Personality: 0.7750\n",
      "Anxiety: 0.8109\n",
      "\n",
      "Model Statistics:\n",
      "Total Test Samples: 1192\n",
      "Correct Predictions: 971\n",
      "Wrong Predictions: 221\n",
      "==================================================\n"
     ]
    }
   ],
   "source": [
    "# Detailed Performance Analysis\n",
    "print(\"=== DETAILED PERFORMANCE ANALYSIS ===\")\n",
    "\n",
    "# Classification Report\n",
    "print(\"Classification Report:\")\n",
    "print(classification_report(y_test, final_predictions, target_names=class_names))\n",
    "\n",
    "# Per-class accuracy\n",
    "cm = confusion_matrix(y_test, final_predictions)\n",
    "per_class_accuracy = cm.diagonal() / cm.sum(axis=1)\n",
    "\n",
    "print(f\"\\nPer-Class Accuracy:\")\n",
    "for i, class_name in enumerate(class_names):\n",
    "    print(f\"{class_name}: {per_class_accuracy[i]:.4f}\")\n",
    "\n",
    "# Overall statistics\n",
    "print(f\"\\nModel Statistics:\")\n",
    "print(f\"Total Test Samples: {len(y_test)}\")\n",
    "print(f\"Correct Predictions: {(final_predictions == y_test).sum()}\")\n",
    "print(f\"Wrong Predictions: {(final_predictions != y_test).sum()}\")\n",
    "print(\"=\"*50)"
   ]
  },
  {
   "cell_type": "code",
   "execution_count": 7,
   "id": "17d9dcce",
   "metadata": {},
   "outputs": [
    {
     "name": "stdout",
     "output_type": "stream",
     "text": [
      "=== CONFUSION MATRIX VISUALIZATION ===\n"
     ]
    },
    {
     "data": {
      "image/png": "[encoded data removed]",
      "text/plain": [
       "<Figure size 1000x800 with 2 Axes>"
      ]
     },
     "metadata": {},
     "output_type": "display_data"
    },
    {
     "name": "stdout",
     "output_type": "stream",
     "text": [
      "\n",
      "Most Common Misclassifications:\n",
      "Personality → Depression: 24 cases\n",
      "Depression → Personality: 18 cases\n",
      "Personality → Anxiety: 16 cases\n",
      "Anxiety → Stress: 16 cases\n",
      "Bipolar → Depression: 14 cases\n"
     ]
    }
   ],
   "source": [
    "# Confusion Matrix Visualization\n",
    "print(\"=== CONFUSION MATRIX VISUALIZATION ===\")\n",
    "\n",
    "plt.figure(figsize=(10, 8))\n",
    "\n",
    "# Create confusion matrix heatmap\n",
    "sns.heatmap(cm, \n",
    "            annot=True, \n",
    "            fmt=\"d\", \n",
    "            cmap=\"Blues\",\n",
    "            xticklabels=class_names,\n",
    "            yticklabels=class_names,\n",
    "            square=True,\n",
    "            cbar_kws={'label': 'Number of Predictions'})\n",
    "\n",
    "plt.title(f'Confusion Matrix - SVM Model\\nAccuracy: {final_accuracy:.4f}', fontsize=14, fontweight='bold')\n",
    "plt.xlabel('Predicted Label', fontsize=12)\n",
    "plt.ylabel('True Label', fontsize=12)\n",
    "plt.xticks(rotation=45)\n",
    "plt.yticks(rotation=0)\n",
    "plt.tight_layout()\n",
    "plt.show()\n",
    "\n",
    "# Analyze misclassifications\n",
    "print(f\"\\nMost Common Misclassifications:\")\n",
    "misclass_pairs = []\n",
    "for i in range(len(class_names)):\n",
    "    for j in range(len(class_names)):\n",
    "        if i != j and cm[i][j] > 0:\n",
    "            misclass_pairs.append((class_names[i], class_names[j], cm[i][j]))\n",
    "\n",
    "# Sort by frequency\n",
    "misclass_pairs.sort(key=lambda x: x[2], reverse=True)\n",
    "for true_label, pred_label, count in misclass_pairs[:5]:\n",
    "    print(f\"{true_label} → {pred_label}: {count} cases\")"
   ]
  },
  {
   "cell_type": "markdown",
   "id": "603f296a",
   "metadata": {},
   "source": [
    "## 🎯 Model Summary\n",
    "\n",
    "**Best Model Selected:** Support Vector Machine (LinearSVC)\n",
    "\n",
    "**Key Features:**\n",
    "- ✅ Highest accuracy among tested models\n",
    "- ✅ Excellent for high-dimensional text data\n",
    "- ✅ Robust and scalable\n",
    "- ✅ Production-ready performance\n",
    "\n",
    "**Next Steps:**\n",
    "1. Save the trained model for production use\n",
    "2. Consider advanced techniques (BERT, ensemble methods)\n",
    "3. Collect more data for further improvements"
   ]
  },
  {
   "cell_type": "code",
   "execution_count": 8,
   "id": "ccb24299",
   "metadata": {},
   "outputs": [
    {
     "name": "stdout",
     "output_type": "stream",
     "text": [
      "=== MODEL DEPLOYMENT PREPARATION ===\n",
      "✅ Model saved: ../models/mental_health_svm_model_20251007_094723.pkl\n",
      "✅ Vectorizer saved: ../models/tfidf_vectorizer_20251007_094723.pkl\n",
      "\n",
      "🧪 SAMPLE PREDICTION TEST:\n",
      "Text: 'I've been feeling really anxious lately and having panic attacks'\n",
      "Predicted Category: Anxiety\n",
      "Confidence Scores: {'Stress': np.float64(-1.5460113858632856), 'Depression': np.float64(-1.5324117179432002), 'Bipolar': np.float64(-0.7744058883095147), 'Personality': np.float64(-0.8518386283327044), 'Anxiety': np.float64(0.8286417425268278)}\n",
      "\n",
      "🚀 MODEL READY FOR PRODUCTION!\n",
      "Final Accuracy: 0.8146 (81.46%)\n",
      "==================================================\n"
     ]
    }
   ],
   "source": [
    "# Model Deployment Preparation\n",
    "print(\"=== MODEL DEPLOYMENT PREPARATION ===\")\n",
    "\n",
    "import joblib\n",
    "from datetime import datetime\n",
    "\n",
    "# Save the trained model and vectorizer\n",
    "model_timestamp = datetime.now().strftime(\"%Y%m%d_%H%M%S\")\n",
    "model_filename = f\"../models/mental_health_svm_model_{model_timestamp}.pkl\"\n",
    "vectorizer_filename = f\"../models/tfidf_vectorizer_{model_timestamp}.pkl\"\n",
    "\n",
    "# Create models directory if it doesn't exist\n",
    "import os\n",
    "os.makedirs(\"../models\", exist_ok=True)\n",
    "\n",
    "# Save model and vectorizer\n",
    "joblib.dump(final_model, model_filename)\n",
    "joblib.dump(tfidf, vectorizer_filename)\n",
    "\n",
    "print(f\"✅ Model saved: {model_filename}\")\n",
    "print(f\"✅ Vectorizer saved: {vectorizer_filename}\")\n",
    "\n",
    "# Test prediction function\n",
    "def predict_mental_health(text):\n",
    "    \"\"\"Predict mental health category for given text\"\"\"\n",
    "    text_tfidf = tfidf.transform([text])\n",
    "    prediction = final_model.predict(text_tfidf)[0]\n",
    "    probability = final_model.decision_function(text_tfidf)[0]\n",
    "    \n",
    "    return {\n",
    "        'predicted_class': class_names[prediction],\n",
    "        'class_number': prediction,\n",
    "        'confidence_scores': dict(zip(class_names, probability))\n",
    "    }\n",
    "\n",
    "# Test with sample text\n",
    "sample_text = \"I've been feeling really anxious lately and having panic attacks\"\n",
    "result = predict_mental_health(sample_text)\n",
    "\n",
    "print(f\"\\n🧪 SAMPLE PREDICTION TEST:\")\n",
    "print(f\"Text: '{sample_text}'\")\n",
    "print(f\"Predicted Category: {result['predicted_class']}\")\n",
    "print(f\"Confidence Scores: {result['confidence_scores']}\")\n",
    "\n",
    "print(f\"\\n🚀 MODEL READY FOR PRODUCTION!\")\n",
    "print(f\"Final Accuracy: {final_accuracy:.4f} ({final_accuracy*100:.2f}%)\")\n",
    "print(\"=\"*50)"
   ]
  }
 ],
 "metadata": {
  "kernelspec": {
   "display_name": "mental_env (3.13.1)",
   "language": "python",
   "name": "python3"
  },
  "language_info": {
   "codemirror_mode": {
    "name": "ipython",
    "version": 3
   },
   "file_extension": ".py",
   "mimetype": "text/x-python",
   "name": "python",
   "nbconvert_exporter": "python",
   "pygments_lexer": "ipython3",
   "version": "3.13.1"
  }
 },
 "nbformat": 4,
 "nbformat_minor": 5
}

{
 "cells": [
  {
   "cell_type": "code",
   "execution_count": 12,
   "id": "a37eee44",
   "metadata": {},
   "outputs": [
    {
     "name": "stdout",
     "output_type": "stream",
     "text": [
      "Shape of dataset: (5957, 4)\n"
     ]
    },
    {
     "data": {
      "text/html": [
       "<div>\n",
       "<style scoped>\n",
       "    .dataframe tbody tr th:only-of-type {\n",
       "        vertical-align: middle;\n",
       "    }\n",
       "\n",
       "    .dataframe tbody tr th {\n",
       "        vertical-align: top;\n",
       "    }\n",
       "\n",
       "    .dataframe thead th {\n",
       "        text-align: right;\n",
       "    }\n",
       "</style>\n",
       "<table border=\"1\" class=\"dataframe\">\n",
       "  <thead>\n",
       "    <tr style=\"text-align: right;\">\n",
       "      <th></th>\n",
       "      <th>S.no</th>\n",
       "      <th>text</th>\n",
       "      <th>title</th>\n",
       "      <th>target</th>\n",
       "    </tr>\n",
       "  </thead>\n",
       "  <tbody>\n",
       "    <tr>\n",
       "      <th>0</th>\n",
       "      <td>0</td>\n",
       "      <td>Welcome to /r/depression's check-in post - a p...</td>\n",
       "      <td>Regular check-in post, with information about ...</td>\n",
       "      <td>1</td>\n",
       "    </tr>\n",
       "    <tr>\n",
       "      <th>1</th>\n",
       "      <td>1</td>\n",
       "      <td>We understand that most people who reply immed...</td>\n",
       "      <td>Our most-broken and least-understood rules is ...</td>\n",
       "      <td>1</td>\n",
       "    </tr>\n",
       "    <tr>\n",
       "      <th>2</th>\n",
       "      <td>2</td>\n",
       "      <td>Anyone else just miss physical touch? I crave ...</td>\n",
       "      <td>I haven’t been touched, or even hugged, in so ...</td>\n",
       "      <td>1</td>\n",
       "    </tr>\n",
       "    <tr>\n",
       "      <th>3</th>\n",
       "      <td>3</td>\n",
       "      <td>I’m just so ashamed. Everyone and everything f...</td>\n",
       "      <td>Being Depressed is Embarrassing</td>\n",
       "      <td>1</td>\n",
       "    </tr>\n",
       "    <tr>\n",
       "      <th>4</th>\n",
       "      <td>4</td>\n",
       "      <td>I really need a friend. I don't even have a si...</td>\n",
       "      <td>I'm desperate for a friend and to feel loved b...</td>\n",
       "      <td>1</td>\n",
       "    </tr>\n",
       "  </tbody>\n",
       "</table>\n",
       "</div>"
      ],
      "text/plain": [
       "   S.no                                               text  \\\n",
       "0     0  Welcome to /r/depression's check-in post - a p...   \n",
       "1     1  We understand that most people who reply immed...   \n",
       "2     2  Anyone else just miss physical touch? I crave ...   \n",
       "3     3  I’m just so ashamed. Everyone and everything f...   \n",
       "4     4  I really need a friend. I don't even have a si...   \n",
       "\n",
       "                                               title  target  \n",
       "0  Regular check-in post, with information about ...       1  \n",
       "1  Our most-broken and least-understood rules is ...       1  \n",
       "2  I haven’t been touched, or even hugged, in so ...       1  \n",
       "3                    Being Depressed is Embarrassing       1  \n",
       "4  I'm desperate for a friend and to feel loved b...       1  "
      ]
     },
     "execution_count": 12,
     "metadata": {},
     "output_type": "execute_result"
    }
   ],
   "source": [
    "import pandas as pd\n",
    "\n",
    "# Load dataset\n",
    "df = pd.read_csv(\"../data/data_to_be_cleansed.csv/data_to_be_cleansed.csv\")\n",
    "\n",
    "# Show basic info\n",
    "print(\"Shape of dataset:\", df.shape)\n",
    "df.head()\n",
    "\n",
    "# Rename Unnamed: 0 to target (since it contains labels)\n",
    "df = df.rename(columns={\"Unnamed: 0\": \"S.no\"})\n",
    "\n",
    "# Preview dataset\n",
    "df.head()\n",
    "\n",
    "\n"
   ]
  },
  {
   "cell_type": "code",
   "execution_count": 13,
   "id": "e9e40c7e",
   "metadata": {},
   "outputs": [
    {
     "name": "stdout",
     "output_type": "stream",
     "text": [
      "Index(['text', 'title', 'target'], dtype='object')\n"
     ]
    },
    {
     "data": {
      "text/html": [
       "<div>\n",
       "<style scoped>\n",
       "    .dataframe tbody tr th:only-of-type {\n",
       "        vertical-align: middle;\n",
       "    }\n",
       "\n",
       "    .dataframe tbody tr th {\n",
       "        vertical-align: top;\n",
       "    }\n",
       "\n",
       "    .dataframe thead th {\n",
       "        text-align: right;\n",
       "    }\n",
       "</style>\n",
       "<table border=\"1\" class=\"dataframe\">\n",
       "  <thead>\n",
       "    <tr style=\"text-align: right;\">\n",
       "      <th></th>\n",
       "      <th>text</th>\n",
       "      <th>title</th>\n",
       "      <th>target</th>\n",
       "    </tr>\n",
       "  </thead>\n",
       "  <tbody>\n",
       "    <tr>\n",
       "      <th>0</th>\n",
       "      <td>Welcome to /r/depression's check-in post - a p...</td>\n",
       "      <td>Regular check-in post, with information about ...</td>\n",
       "      <td>1</td>\n",
       "    </tr>\n",
       "    <tr>\n",
       "      <th>1</th>\n",
       "      <td>We understand that most people who reply immed...</td>\n",
       "      <td>Our most-broken and least-understood rules is ...</td>\n",
       "      <td>1</td>\n",
       "    </tr>\n",
       "    <tr>\n",
       "      <th>2</th>\n",
       "      <td>Anyone else just miss physical touch? I crave ...</td>\n",
       "      <td>I haven’t been touched, or even hugged, in so ...</td>\n",
       "      <td>1</td>\n",
       "    </tr>\n",
       "    <tr>\n",
       "      <th>3</th>\n",
       "      <td>I’m just so ashamed. Everyone and everything f...</td>\n",
       "      <td>Being Depressed is Embarrassing</td>\n",
       "      <td>1</td>\n",
       "    </tr>\n",
       "    <tr>\n",
       "      <th>4</th>\n",
       "      <td>I really need a friend. I don't even have a si...</td>\n",
       "      <td>I'm desperate for a friend and to feel loved b...</td>\n",
       "      <td>1</td>\n",
       "    </tr>\n",
       "  </tbody>\n",
       "</table>\n",
       "</div>"
      ],
      "text/plain": [
       "                                                text  \\\n",
       "0  Welcome to /r/depression's check-in post - a p...   \n",
       "1  We understand that most people who reply immed...   \n",
       "2  Anyone else just miss physical touch? I crave ...   \n",
       "3  I’m just so ashamed. Everyone and everything f...   \n",
       "4  I really need a friend. I don't even have a si...   \n",
       "\n",
       "                                               title  target  \n",
       "0  Regular check-in post, with information about ...       1  \n",
       "1  Our most-broken and least-understood rules is ...       1  \n",
       "2  I haven’t been touched, or even hugged, in so ...       1  \n",
       "3                    Being Depressed is Embarrassing       1  \n",
       "4  I'm desperate for a friend and to feel loved b...       1  "
      ]
     },
     "execution_count": 13,
     "metadata": {},
     "output_type": "execute_result"
    }
   ],
   "source": [
    "# Drop the serial number column since it's not useful for training\n",
    "df = df.drop(columns=[\"S.no\"], errors=\"ignore\")\n",
    "\n",
    "# Confirm columns\n",
    "print(df.columns)\n",
    "df.head()\n"
   ]
  },
  {
   "cell_type": "code",
   "execution_count": 14,
   "id": "3a5a67aa",
   "metadata": {},
   "outputs": [
    {
     "data": {
      "text/html": [
       "<div>\n",
       "<style scoped>\n",
       "    .dataframe tbody tr th:only-of-type {\n",
       "        vertical-align: middle;\n",
       "    }\n",
       "\n",
       "    .dataframe tbody tr th {\n",
       "        vertical-align: top;\n",
       "    }\n",
       "\n",
       "    .dataframe thead th {\n",
       "        text-align: right;\n",
       "    }\n",
       "</style>\n",
       "<table border=\"1\" class=\"dataframe\">\n",
       "  <thead>\n",
       "    <tr style=\"text-align: right;\">\n",
       "      <th></th>\n",
       "      <th>content</th>\n",
       "      <th>target</th>\n",
       "    </tr>\n",
       "  </thead>\n",
       "  <tbody>\n",
       "    <tr>\n",
       "      <th>0</th>\n",
       "      <td>Regular check-in post, with information about ...</td>\n",
       "      <td>1</td>\n",
       "    </tr>\n",
       "    <tr>\n",
       "      <th>1</th>\n",
       "      <td>Our most-broken and least-understood rules is ...</td>\n",
       "      <td>1</td>\n",
       "    </tr>\n",
       "    <tr>\n",
       "      <th>2</th>\n",
       "      <td>I haven’t been touched, or even hugged, in so ...</td>\n",
       "      <td>1</td>\n",
       "    </tr>\n",
       "    <tr>\n",
       "      <th>3</th>\n",
       "      <td>Being Depressed is Embarrassing I’m just so as...</td>\n",
       "      <td>1</td>\n",
       "    </tr>\n",
       "    <tr>\n",
       "      <th>4</th>\n",
       "      <td>I'm desperate for a friend and to feel loved b...</td>\n",
       "      <td>1</td>\n",
       "    </tr>\n",
       "  </tbody>\n",
       "</table>\n",
       "</div>"
      ],
      "text/plain": [
       "                                             content  target\n",
       "0  Regular check-in post, with information about ...       1\n",
       "1  Our most-broken and least-understood rules is ...       1\n",
       "2  I haven’t been touched, or even hugged, in so ...       1\n",
       "3  Being Depressed is Embarrassing I’m just so as...       1\n",
       "4  I'm desperate for a friend and to feel loved b...       1"
      ]
     },
     "execution_count": 14,
     "metadata": {},
     "output_type": "execute_result"
    }
   ],
   "source": [
    "df[\"text\"] = df[\"text\"].fillna(df[\"title\"])\n",
    "df[\"content\"] = df[\"title\"].fillna(\"\") + \" \" + df[\"text\"]\n",
    "\n",
    "# Keep only the useful columns\n",
    "df = df[[\"content\", \"target\"]]\n",
    "\n",
    "df.head()\n"
   ]
  },
  {
   "cell_type": "code",
   "execution_count": 15,
   "id": "ab409bcc",
   "metadata": {},
   "outputs": [
    {
     "name": "stdout",
     "output_type": "stream",
     "text": [
      "✅ Cleaned dataset saved at data/cleaned_data.csv\n"
     ]
    }
   ],
   "source": [
    "df.to_csv(\"../data/cleaned_data.csv\", index=False)\n",
    "print(\"✅ Cleaned dataset saved at data/cleaned_data.csv\")\n"
   ]
  }
 ],
 "metadata": {
  "kernelspec": {
   "display_name": "mental_env (3.13.1)",
   "language": "python",
   "name": "python3"
  },
  "language_info": {
   "codemirror_mode": {
    "name": "ipython",
    "version": 3
   },
   "file_extension": ".py",
   "mimetype": "text/x-python",
   "name": "python",
   "nbconvert_exporter": "python",
   "pygments_lexer": "ipython3",
   "version": "3.13.1"
  }
 },
 "nbformat": 4,
 "nbformat_minor": 5
}
